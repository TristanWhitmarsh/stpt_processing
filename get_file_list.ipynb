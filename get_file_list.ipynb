{
 "cells": [
  {
   "cell_type": "code",
   "execution_count": 1,
   "id": "impossible-workplace",
   "metadata": {},
   "outputs": [
    {
     "name": "stdout",
     "output_type": "stream",
     "text": [
      "'20220607_PDX_STG139_GFP_018307_100x15um',\n",
      "'20220608_DI_PDX_SA535_Tum_5223_04280_100x15um',\n",
      "'20220606_PDX_AB559_GFP_005503_100x15um',\n",
      "'20210310_PDX_HCI010_GFP_100x15um',\n",
      "'20210324_PDX_STG139_GFP_100x15um',\n",
      "'20211020_PDX_STG139_GFP_029621_100x15um',\n"
     ]
    }
   ],
   "source": [
    "from os import listdir\n",
    "from os.path import isfile, join\n",
    "files = [f for f in listdir(\"/storage/imaxt/eglez/processed/stpt/\") if \"PDX\" in f]\n",
    "for x in range(len(files)):\n",
    "    print(\"'\"+files[x]+\"',\")"
   ]
  },
  {
   "cell_type": "code",
   "execution_count": 3,
   "id": "limited-quarter",
   "metadata": {},
   "outputs": [
    {
     "name": "stdout",
     "output_type": "stream",
     "text": [
      "[]\n"
     ]
    }
   ],
   "source": []
  }
 ],
 "metadata": {
  "kernelspec": {
   "display_name": "Python 3 (ipykernel)",
   "language": "python",
   "name": "python3"
  },
  "language_info": {
   "codemirror_mode": {
    "name": "ipython",
    "version": 3
   },
   "file_extension": ".py",
   "mimetype": "text/x-python",
   "name": "python",
   "nbconvert_exporter": "python",
   "pygments_lexer": "ipython3",
   "version": "3.9.6"
  }
 },
 "nbformat": 4,
 "nbformat_minor": 5
}
