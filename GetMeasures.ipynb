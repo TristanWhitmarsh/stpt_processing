{
 "cells": [
  {
   "cell_type": "code",
   "execution_count": 1,
   "id": "222043d7-9e2d-41fa-aa9f-bc2206ec7ab6",
   "metadata": {},
   "outputs": [],
   "source": [
    "import sys\n",
    "#!{sys.executable} -m pip install trimesh\n",
    "#!{sys.executable} -m pip install porespy\n"
   ]
  },
  {
   "cell_type": "code",
   "execution_count": 2,
   "id": "descending-referral",
   "metadata": {},
   "outputs": [],
   "source": [
    "from skimage.transform import pyramid_gaussian\n",
    "from skimage.segmentation import clear_border\n",
    "from skimage.measure import label\n",
    "from skimage.morphology import binary_erosion, binary_dilation\n",
    "from skimage.morphology import closing, square, remove_small_objects, binary_opening, remove_small_holes, skeletonize_3d, skeletonize, disk, thin, medial_axis\n",
    "from skimage.morphology import skeletonize, disk, ball\n",
    "from skimage.filters import threshold_local, threshold_sauvola, threshold_niblack, threshold_otsu, rank\n",
    "from skimage import data, measure\n",
    "\n",
    "from scipy.ndimage.morphology import distance_transform_edt\n",
    "from scipy.ndimage import gaussian_filter\n",
    "from scipy import ndimage\n",
    "from scipy import stats\n",
    "\n",
    "import os\n",
    "import numpy as np\n",
    "import sys\n",
    "import statistics\n",
    "import math\n",
    "import SimpleITK as sitk\n",
    "import gc\n",
    "from PIL import Image\n",
    "import trimesh\n",
    "import porespy as ps\n",
    "\n",
    "from matplotlib import pyplot as plt \n",
    "%matplotlib inline\n"
   ]
  },
  {
   "cell_type": "code",
   "execution_count": 3,
   "id": "dad8cd0c-219f-44d4-a177-f5678baa198a",
   "metadata": {},
   "outputs": [],
   "source": [
    "def GetFractalDimension(binary_mask):\n",
    "    \n",
    "    binary_mask_itk = sitk.GetImageFromArray(binary_mask.astype(float))\n",
    "\n",
    "    counts = []\n",
    "    sizes = []\n",
    "\n",
    "    for a in range(1, 10):\n",
    "        b = pow(2,a)\n",
    "\n",
    "        binary_mask_itk.SetOrigin((0, 0, 0 ))\n",
    "        binary_mask_itk.SetSpacing([1,1,1])\n",
    "        \n",
    "        size2D = (int(math.floor(binary_mask_itk.GetSize()[0]/2)), int(math.floor(binary_mask_itk.GetSize()[1]/2)), int(math.floor(binary_mask_itk.GetSize()[2]/2)))\n",
    "\n",
    "        resampler = sitk.ResampleImageFilter()        \n",
    "        resampler.SetSize(size2D)\n",
    "        resampler.SetOutputSpacing([2,2,2])\n",
    "        resampler.SetOutputOrigin((0.5, 0.5, 0.5))\n",
    "        resampler.SetInterpolator(sitk.sitkLinear)\n",
    "        resampler.SetDefaultPixelValue(0)\n",
    "        binary_mask_itk = resampler.Execute(binary_mask_itk)\n",
    "\n",
    "        out = sitk.GetArrayFromImage(binary_mask_itk)\n",
    "        count = np.count_nonzero(out) - np.count_nonzero(out == 1)\n",
    "        all = out.shape[0] * out.shape[1] * out.shape[2]\n",
    "        \n",
    "        if count == all or count <= 1:\n",
    "            break\n",
    "\n",
    "        # print(\"{},{}\".format(count, b))\n",
    "        # print(\"{},{}\".format(math.log(count), math.log(1/b)))\n",
    "    \n",
    "        counts.append(math.log(count))\n",
    "        # sizes.append(math.log(1/b))\n",
    "        sizes.append(math.log(b))\n",
    "        \n",
    "        #sitk.WriteImage(binary_mask_itk, 'S:/Tristan/binary_mask_itk.mha')\n",
    "        \n",
    "    plt.plot(counts, sizes, 'go')\n",
    "    plt.show()\n",
    "    \n",
    "\n",
    "    try:\n",
    "        slope, intercept, r_value, p_value, std_err = stats.linregress(sizes,counts)\n",
    "        return slope\n",
    "    except:\n",
    "        print(\"An exception occurred\") \n",
    "        return 0\n",
    "    \n",
    "    #print(slope)"
   ]
  },
  {
   "cell_type": "code",
   "execution_count": 4,
   "id": "66ac689d-8543-4042-a78a-a5b34a02a497",
   "metadata": {},
   "outputs": [],
   "source": [
    "\n",
    "\n",
    "def GetNumberOfHandles(binary_mask):\n",
    "    stroma = ndimage.binary_fill_holes(binary_mask)\n",
    "    stroma = np.pad(stroma, ((1,1),(1,1),(1,1)), 'constant', constant_values=0)\n",
    "\n",
    "    regions, number_of_regions = ndimage.label(stroma)\n",
    "    \n",
    "    #verts, faces, normals, values = measure.marching_cubes_lewiner(stroma, level=None, spacing=(1.0, 1.0, 1.0), gradient_direction='descent', step_size=2, allow_degenerate=True, use_classic=False)\n",
    "    verts, faces, normals, values = measure.marching_cubes(stroma, level=None, spacing=(1.0, 1.0, 1.0), gradient_direction='descent', step_size=1, allow_degenerate=True)\n",
    "    \n",
    "    mesh = trimesh.Trimesh(vertices=verts, faces=faces, process=False)\n",
    "\n",
    "    normals = mesh.vertex_normals\n",
    "    values = normals[:,0]\n",
    "    surface = (verts, faces, values)\n",
    "\n",
    "    number_of_vertices = verts.shape[0]\n",
    "    number_of_edges = (faces.shape[0] * 3)/2\n",
    "    number_of_cells = faces.shape[0]\n",
    "    number_of_boundaries = 0\n",
    "\n",
    "    euler_number = number_of_vertices - number_of_edges + number_of_cells + number_of_boundaries\n",
    "    \n",
    "    \n",
    "    # print(\"euler_number: {}\".format(euler_number))\n",
    "    # print(\"number_of_vertices: {}\".format(number_of_vertices))\n",
    "    # print(\"number_of_edges: {}\".format(number_of_edges))\n",
    "    # print(\"number_of_cells: {}\".format(number_of_cells))\n",
    "    # print(\"number_of_boundaries: {}\".format(number_of_boundaries))\n",
    "    # print(\"number_of_blobs: {}\".format(number_of_blobs))\n",
    "    \n",
    "    number_of_handles = -(((number_of_vertices - number_of_edges + number_of_cells + number_of_boundaries)/2.0)-1) + (number_of_regions - 1)\n",
    "    \n",
    "    return number_of_handles\n",
    "\n",
    "\n",
    "\n"
   ]
  },
  {
   "cell_type": "code",
   "execution_count": 5,
   "id": "e4cfd698-a982-42f6-b1e1-0d7b03621c84",
   "metadata": {},
   "outputs": [],
   "source": [
    "\n",
    "def GetThickness(binary_mask):\n",
    "    #print(\"generating thickness map\")\n",
    "    thickness_map = ps.filters.local_thickness(binary_mask, mode='dt')\n",
    "    thickness_map = np.float32(thickness_map)\n",
    "    # thickness_map_itk = sitk.GetImageFromArray(thickness_map)\n",
    "    # sitk.WriteImage(thickness_map_itk, 'UnitTestsOutputs/'+os.path.basename(file_name)[:-9]+'.mha')\n",
    "\n",
    "    if(np.count_nonzero(binary_mask) > 0):\n",
    "        average_thickness = 7.5 * np.sum(thickness_map) / np.count_nonzero(thickness_map)\n",
    "        #print(\"np.count_nonzero(thickness_map) {}\".format(np.count_nonzero(thickness_map)))\n",
    "\n",
    "        mask = binary_mask == 0\n",
    "        thickness_map_masked = np.ma.MaskedArray(thickness_map, mask)\n",
    "        standard_deviation_thickness = 7.5 * thickness_map_masked.std()\n",
    "        \n",
    "        mask = None\n",
    "        thickness_map_masked = None\n",
    "    else:\n",
    "        average_thickness = 0\n",
    "        standard_deviation_thickness = 0\n",
    "        \n",
    "    del thickness_map\n",
    "    \n",
    "    return (average_thickness, standard_deviation_thickness)\n",
    "\n",
    "    "
   ]
  },
  {
   "cell_type": "code",
   "execution_count": 6,
   "id": "b71b1fd6-f8c5-449f-b0d6-e923d90d99d6",
   "metadata": {},
   "outputs": [],
   "source": [
    "def Run(file_name):\n",
    "    print(file_name)\n",
    "    #global mask\n",
    "    #global mask_itk\n",
    "\n",
    "    #mask_itk = sitk.ReadImage(file_name, imageIO=\"MetaImageIO\")\n",
    "    mask_itk = sitk.ReadImage(file_name)\n",
    "    # sitk.WriteImage(mask_itk, 'mask_itk.nii')\n",
    "    mask = sitk.GetArrayFromImage(mask_itk)\n",
    "    #print(mask.shape)\n",
    "    \n",
    "    \n",
    "    file_stroma_percentage = open('measurements_stroma_percentage.csv', 'a')\n",
    "    file_stroma_percentage.write(os.path.basename(file_name)[:-9]+',')\n",
    "    file_connectivity_density = open('measurements_connectivity_density.csv', 'a')\n",
    "    file_connectivity_density.write(os.path.basename(file_name)[:-9]+',')\n",
    "    file_fractal_dimension = open('measurements_fractal_dimension.csv', 'a')\n",
    "    file_fractal_dimension.write(os.path.basename(file_name)[:-9]+',')\n",
    "    file_average_thickness = open('measurements_average_thickness.csv', 'a')\n",
    "    file_average_thickness.write(os.path.basename(file_name)[:-9]+',')\n",
    "    file_standard_deviation_thickness = open('measurements_standard_deviation_thickness.csv', 'a')\n",
    "    file_standard_deviation_thickness.write(os.path.basename(file_name)[:-9]+',')\n",
    "    file_total_tissue_area = open('measurements_total_tissue_area.csv', 'a')\n",
    "    file_total_tissue_area.write(os.path.basename(file_name)[:-9]+',')\n",
    "\n",
    "    for i in range(1,9):\n",
    "    \n",
    "        tissue_count = np.count_nonzero(mask == i)\n",
    "        stroma_count = np.count_nonzero(mask == i+11)\n",
    "        stroma = mask == i+11\n",
    "        total_tissue_area = 0.0075*0.0075*0.0075*(tissue_count + stroma_count)\n",
    "\n",
    "        if(tissue_count != 0):\n",
    "            stroma_percentage = 100 * (stroma_count / (tissue_count + stroma_count))\n",
    "\n",
    "            print(\"stroma_percentage: {}\".format(stroma_percentage))\n",
    "\n",
    "\n",
    "            if(stroma_count != 0):\n",
    "                number_of_handles = GetNumberOfHandles(stroma)\n",
    "                connectivity_density = number_of_handles / total_tissue_area\n",
    "                print(\"number_of_handles (#): {}\".format(number_of_handles))\n",
    "                print(\"connectivity_density (#/mm3): {}\".format(connectivity_density))\n",
    "\n",
    "                fractal_dimension = GetFractalDimension(stroma)\n",
    "                print(\"fractal_dimension: {}\".format(fractal_dimension))\n",
    "\n",
    "                average_thickness, standard_deviation_thickness = GetThickness(stroma)\n",
    "                print(\"average_thickness: {}\".format(average_thickness))\n",
    "                print(\"standard_deviation: {}\".format(standard_deviation_thickness))\n",
    "                print(\"----------------------------------------------------------------\")\n",
    "            else:\n",
    "                number_of_handles = 0\n",
    "                connectivity_density = 0\n",
    "                fractal_dimension = 0\n",
    "                average_thickness = 0\n",
    "                standard_deviation_thickness = 0\n",
    "                \n",
    "        else:\n",
    "            stroma_percentage = -1\n",
    "            number_of_handles = -1\n",
    "            connectivity_density = -1\n",
    "            fractal_dimension = -1\n",
    "            average_thickness = -1\n",
    "            standard_deviation_thickness = -1\n",
    "\n",
    "\n",
    "        file_stroma_percentage.write( str(stroma_percentage)+',')\n",
    "        file_connectivity_density.write(str(connectivity_density)+',')\n",
    "        file_fractal_dimension.write(str(fractal_dimension)+',')\n",
    "        file_average_thickness.write(str(average_thickness)+',')\n",
    "        file_standard_deviation_thickness.write(str(standard_deviation_thickness)+',')\n",
    "        file_total_tissue_area.write(str(total_tissue_area)+',')\n",
    "        \n",
    "    \n",
    "    file_stroma_percentage.write('\\n')\n",
    "    file_connectivity_density.write('\\n')\n",
    "    file_fractal_dimension.write('\\n')\n",
    "    file_average_thickness.write('\\n')\n",
    "    file_standard_deviation_thickness.write('\\n')\n",
    "    file_total_tissue_area.write('\\n')\n",
    "        \n",
    "    file_stroma_percentage.close()\n",
    "    file_connectivity_density.close()\n",
    "    file_fractal_dimension.close()\n",
    "    file_average_thickness.close()\n",
    "    file_standard_deviation_thickness.close()\n",
    "    file_total_tissue_area.close()\n",
    "    \n",
    "\n",
    "    print(\"done\")\n",
    "    del stroma\n",
    "    del mask\n",
    "    gc.collect()"
   ]
  },
  {
   "cell_type": "code",
   "execution_count": 7,
   "id": "9f0eb207-4cb8-404d-88e2-825b34f75fc6",
   "metadata": {},
   "outputs": [],
   "source": [
    "\n",
    "#Run('UnitTests/50x50_line.mha')\n",
    "#Run('UnitTests/50x50_plane.mha')\n",
    "#Run('UnitTests/50x50_sphere2.mha')\n",
    "#Run('UnitTests/50x50_sphere.mha')\n",
    "#Run('UnitTests/10x10_double_mask.mha')\n",
    "#Run('UnitTests/10x10_single_mask.mha')\n",
    "# Run('UnitTests/10x10_double_mask2.mha')\n",
    "# Run('UnitTests/50x50_all_outer.mha')\n",
    "#Run('UnitTests/50x50_strange.mha')\n",
    "# Run('UnitTests/50x50_cube.mha')\n",
    "#Run('UnitTests/50x50_plane_4.mha')\n",
    "#Run('UnitTests/50x50_plane_5.mha')\n",
    "#Run(\"../../Storage/segmentations/\" + \"20190911_PDX_STG316_gfp_100x15um\" + \".nii\")\n"
   ]
  },
  {
   "cell_type": "code",
   "execution_count": 8,
   "id": "f8d16536-f0f9-4ab4-915c-455bae954699",
   "metadata": {},
   "outputs": [],
   "source": [
    "def RunTotal(file_name):\n",
    "    print(file_name)\n",
    "    #global mask\n",
    "    #global mask_itk\n",
    "\n",
    "    #mask_itk = sitk.ReadImage(file_name, imageIO=\"MetaImageIO\")\n",
    "    mask_itk = sitk.ReadImage(file_name)\n",
    "    # sitk.WriteImage(mask_itk, 'mask_itk.nii')\n",
    "    mask = sitk.GetArrayFromImage(mask_itk)\n",
    "    #print(mask.shape)\n",
    "    \n",
    "    \n",
    "    file_stroma_percentage = open('total_measurements_stroma_percentage.csv', 'a')\n",
    "    file_stroma_percentage.write(os.path.basename(file_name)[:-9]+',')\n",
    "    file_connectivity_density = open('total_measurements_connectivity_density.csv', 'a')\n",
    "    file_connectivity_density.write(os.path.basename(file_name)[:-9]+',')\n",
    "    file_fractal_dimension = open('total_measurements_fractal_dimension.csv', 'a')\n",
    "    file_fractal_dimension.write(os.path.basename(file_name)[:-9]+',')\n",
    "    file_average_thickness = open('total_measurements_average_thickness.csv', 'a')\n",
    "    file_average_thickness.write(os.path.basename(file_name)[:-9]+',')\n",
    "    file_standard_deviation_thickness = open('total_measurements_standard_deviation_thickness.csv', 'a')\n",
    "    file_standard_deviation_thickness.write(os.path.basename(file_name)[:-9]+',')\n",
    "    file_total_tissue_area = open('total_measurements_total_tissue_area.csv', 'a')\n",
    "    file_total_tissue_area.write(os.path.basename(file_name)[:-9]+',')\n",
    "\n",
    "\n",
    "\n",
    "    tissue_count = np.count_nonzero(mask >= 1)\n",
    "    stroma_count = np.count_nonzero(mask >= 12)\n",
    "    stroma = mask >= 12\n",
    "\n",
    "\n",
    "    plt.rcParams[\"figure.figsize\"] = (10, 10)\n",
    "    plt.imshow(stroma[int(stroma.shape[0]/2)], interpolation='nearest', cmap=plt.get_cmap(\"nipy_spectral\"), vmin=0, vmax=19)\n",
    "    plt.show()\n",
    "\n",
    "    total_tissue_area = 0.0075*0.0075*0.0075*(tissue_count + stroma_count)\n",
    "\n",
    "    if(tissue_count != 0):\n",
    "        stroma_percentage = 100 * (stroma_count / (tissue_count + stroma_count))\n",
    "\n",
    "        print(\"stroma_percentage: {}\".format(stroma_percentage))\n",
    "\n",
    "\n",
    "        if(stroma_count != 0):\n",
    "            number_of_handles = GetNumberOfHandles(stroma)\n",
    "            connectivity_density = number_of_handles / total_tissue_area\n",
    "            print(\"number_of_handles (#): {}\".format(number_of_handles))\n",
    "            print(\"connectivity_density (#/mm3): {}\".format(connectivity_density))\n",
    "\n",
    "            fractal_dimension = GetFractalDimension(stroma)\n",
    "            print(\"fractal_dimension: {}\".format(fractal_dimension))\n",
    "\n",
    "            average_thickness, standard_deviation_thickness = GetThickness(stroma)\n",
    "            print(\"average_thickness: {}\".format(average_thickness))\n",
    "            print(\"standard_deviation: {}\".format(standard_deviation_thickness))\n",
    "            print(\"----------------------------------------------------------------\")\n",
    "        else:\n",
    "            number_of_handles = 0\n",
    "            connectivity_density = 0\n",
    "            fractal_dimension = 0\n",
    "            average_thickness = 0\n",
    "            standard_deviation_thickness = 0\n",
    "\n",
    "    else:\n",
    "        stroma_percentage = -1\n",
    "        number_of_handles = -1\n",
    "        connectivity_density = -1\n",
    "        fractal_dimension = -1\n",
    "        average_thickness = -1\n",
    "        standard_deviation_thickness = -1\n",
    "\n",
    "\n",
    "    file_stroma_percentage.write( str(stroma_percentage))\n",
    "    file_connectivity_density.write(str(connectivity_density))\n",
    "    file_fractal_dimension.write(str(fractal_dimension))\n",
    "    file_average_thickness.write(str(average_thickness))\n",
    "    file_standard_deviation_thickness.write(str(standard_deviation_thickness))\n",
    "    file_total_tissue_area.write(str(total_tissue_area))\n",
    "\n",
    "    file_stroma_percentage.write('\\n')\n",
    "    file_connectivity_density.write('\\n')\n",
    "    file_fractal_dimension.write('\\n')\n",
    "    file_average_thickness.write('\\n')\n",
    "    file_standard_deviation_thickness.write('\\n')\n",
    "    file_total_tissue_area.write('\\n')\n",
    "        \n",
    "    file_stroma_percentage.close()\n",
    "    file_connectivity_density.close()\n",
    "    file_fractal_dimension.close()\n",
    "    file_average_thickness.close()\n",
    "    file_standard_deviation_thickness.close()\n",
    "    file_total_tissue_area.close()\n",
    "\n",
    "\n",
    "    print(\"done\")\n",
    "    del stroma\n",
    "    del mask\n",
    "    gc.collect()"
   ]
  },
  {
   "cell_type": "code",
   "execution_count": 9,
   "id": "b0235a73-6b36-4187-8319-2408f05ef7c9",
   "metadata": {},
   "outputs": [],
   "source": [
    "\n",
    "# file_names_all = [\n",
    "# ('20211020_PDX_STG139_GFP_029621_100x15um', 2, 150, 50, 0, 0, 120, 1, 15, 0, 0),\n",
    "# ('20210324_PDX_STG139_GFP_100x15um', 1, 200, 0, 300, 0, -120, 50, 400, 0, 0),\n",
    "# ]\n",
    "\n",
    "# for file_name, full_corner_half, cut_off_x_left, cut_off_x_right, cut_off_y_bottom, cut_off_y_top, angle, threshold_tissue, threshold_stroma, cut_off_bottom, cut_off_top in file_names_all:\n",
    "#     print(file_name)\n",
    "#     name = \"../../Storage/segmentations/\" + file_name + \".nii\"\n",
    "#     RunTotal(name)"
   ]
  },
  {
   "cell_type": "code",
   "execution_count": 11,
   "id": "f75158bb-5285-40aa-9580-e12907626195",
   "metadata": {},
   "outputs": [
    {
     "name": "stdout",
     "output_type": "stream",
     "text": [
      "../../Storage/segmentations/20210324_PDX_STG139_GFP_100x15um.nii\n"
     ]
    },
    {
     "data": {
      "image/png": "[encoded data removed]",
      "text/plain": [
       "<Figure size 720x720 with 1 Axes>"
      ]
     },
     "metadata": {
      "needs_background": "light"
     },
     "output_type": "display_data"
    },
    {
     "name": "stdout",
     "output_type": "stream",
     "text": [
      "stroma_percentage: 15.181686641379333\n",
      "number_of_handles (#): 197034.0\n",
      "connectivity_density (#/mm3): 3031.423994645275\n"
     ]
    },
    {
     "data": {
      "image/png": "[encoded data removed]",
      "text/plain": [
       "<Figure size 720x720 with 1 Axes>"
      ]
     },
     "metadata": {
      "needs_background": "light"
     },
     "output_type": "display_data"
    },
    {
     "name": "stdout",
     "output_type": "stream",
     "text": [
      "fractal_dimension: -2.6968772209562926\n"
     ]
    },
    {
     "data": {
      "application/vnd.jupyter.widget-view+json": {
       "model_id": "",
       "version_major": 2,
       "version_minor": 0
      },
      "text/plain": [
       "  0%|          | 0/25 [00:00<?, ?it/s]"
      ]
     },
     "metadata": {},
     "output_type": "display_data"
    },
    {
     "name": "stdout",
     "output_type": "stream",
     "text": [
      "average_thickness: 23.086677924741174\n",
      "standard_deviation: 14.973662291829298\n",
      "----------------------------------------------------------------\n",
      "done\n",
      "../../Storage/segmentations/20211020_PDX_STG139_GFP_029621_100x15um.nii\n"
     ]
    },
    {
     "data": {
      "image/png": "[encoded data removed]",
      "text/plain": [
       "<Figure size 720x720 with 1 Axes>"
      ]
     },
     "metadata": {
      "needs_background": "light"
     },
     "output_type": "display_data"
    },
    {
     "name": "stdout",
     "output_type": "stream",
     "text": [
      "stroma_percentage: 34.1511286858324\n",
      "number_of_handles (#): 161217.0\n",
      "connectivity_density (#/mm3): 4762.722879519041\n"
     ]
    },
    {
     "data": {
      "image/png": "[encoded data removed]",
      "text/plain": [
       "<Figure size 720x720 with 1 Axes>"
      ]
     },
     "metadata": {
      "needs_background": "light"
     },
     "output_type": "display_data"
    },
    {
     "name": "stdout",
     "output_type": "stream",
     "text": [
      "fractal_dimension: -2.6756412101616975\n"
     ]
    },
    {
     "data": {
      "application/vnd.jupyter.widget-view+json": {
       "model_id": "",
       "version_major": 2,
       "version_minor": 0
      },
      "text/plain": [
       "  0%|          | 0/25 [00:00<?, ?it/s]"
      ]
     },
     "metadata": {},
     "output_type": "display_data"
    },
    {
     "name": "stdout",
     "output_type": "stream",
     "text": [
      "average_thickness: 48.92873952321493\n",
      "standard_deviation: 38.36014793229359\n",
      "----------------------------------------------------------------\n",
      "done\n",
      "2\n"
     ]
    }
   ],
   "source": [
    "import glob\n",
    "count = 0\n",
    "for name in glob.glob(\"../../Storage/segmentations/*\"):\n",
    "    count = count + 1\n",
    "    \n",
    "    RunTotal(name)\n",
    "print(count)"
   ]
  }
 ],
 "metadata": {
  "kernelspec": {
   "display_name": "Python 3 (ipykernel)",
   "language": "python",
   "name": "python3"
  },
  "language_info": {
   "codemirror_mode": {
    "name": "ipython",
    "version": 3
   },
   "file_extension": ".py",
   "mimetype": "text/x-python",
   "name": "python",
   "nbconvert_exporter": "python",
   "pygments_lexer": "ipython3",
   "version": "3.9.6"
  }
 },
 "nbformat": 4,
 "nbformat_minor": 5
}
