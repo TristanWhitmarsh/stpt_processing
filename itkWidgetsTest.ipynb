{
 "cells": [
  {
   "cell_type": "code",
   "execution_count": 19,
   "id": "psychological-basis",
   "metadata": {},
   "outputs": [
    {
     "name": "stdout",
     "output_type": "stream",
     "text": [
      "Defaulting to user installation because normal site-packages is not writeable\n",
      "Looking in indexes: https://pypi.org/simple, https://imaxt.ast.cam.ac.uk/pip/\n",
      "Requirement already satisfied: itk-io in /home/jimaxt/.local/lib/python3.7/site-packages (5.2.0.post3)\n",
      "Requirement already satisfied: requests in /opt/conda/lib/python3.7/site-packages (2.25.1)\n",
      "Requirement already satisfied: tqdm in /opt/conda/lib/python3.7/site-packages (4.59.0)\n",
      "Requirement already satisfied: itk-core==5.2.0.post3 in /home/jimaxt/.local/lib/python3.7/site-packages (from itk-io) (5.2.0.post3)\n",
      "Requirement already satisfied: numpy in /home/jimaxt/.local/lib/python3.7/site-packages (from itk-core==5.2.0.post3->itk-io) (1.19.5)\n",
      "Requirement already satisfied: chardet<5,>=3.0.2 in /opt/conda/lib/python3.7/site-packages (from requests) (4.0.0)\n",
      "Requirement already satisfied: certifi>=2017.4.17 in /opt/conda/lib/python3.7/site-packages (from requests) (2021.5.30)\n",
      "Requirement already satisfied: urllib3<1.27,>=1.21.1 in /opt/conda/lib/python3.7/site-packages (from requests) (1.26.4)\n",
      "Requirement already satisfied: idna<3,>=2.5 in /opt/conda/lib/python3.7/site-packages (from requests) (2.10)\n",
      "Defaulting to user installation because normal site-packages is not writeable\n",
      "Looking in indexes: https://pypi.org/simple, https://imaxt.ast.cam.ac.uk/pip/\n",
      "Collecting nodejs\n",
      "  Downloading nodejs-0.1.1.tar.gz (2.3 kB)\n",
      "Collecting optional-django==0.1.0\n",
      "  Downloading optional-django-0.1.0.tar.gz (9.5 kB)\n",
      "Building wheels for collected packages: nodejs, optional-django\n",
      "  Building wheel for nodejs (setup.py) ... \u001b[?25ldone\n",
      "\u001b[?25h  Created wheel for nodejs: filename=nodejs-0.1.1-py3-none-any.whl size=3492 sha256=0e96f8676e31f55936383ba50a1c14d1eb3ff40e02ae93c7b8b56dde370e4e3f\n",
      "  Stored in directory: /home/jimaxt/.cache/pip/wheels/80/3a/93/83f57d8cf66261736b920c942905c46e75378805a7af9c5e8d\n",
      "  Building wheel for optional-django (setup.py) ... \u001b[?25ldone\n",
      "\u001b[?25h  Created wheel for optional-django: filename=optional_django-0.1.0-py3-none-any.whl size=9980 sha256=8efe988162d767d8d7f2efce553f5f71538c81a4260dc718f79a76410ff3683b\n",
      "  Stored in directory: /home/jimaxt/.cache/pip/wheels/1c/e9/a3/5e7d589f0ee51e0631361966ac9eb7f063d46f68669ced53b5\n",
      "Successfully built nodejs optional-django\n",
      "Installing collected packages: optional-django, nodejs\n",
      "Successfully installed nodejs-0.1.1 optional-django-0.1.0\n"
     ]
    }
   ],
   "source": [
    "import sys\n",
    "!{sys.executable} -m pip install itk-io requests tqdm\n",
    "\n",
    "!{sys.executable} -m pip install nodejs\n",
    "#pip install itkwidgets\n",
    "#pip install itk\n",
    "#pip install nodejs"
   ]
  },
  {
   "cell_type": "code",
   "execution_count": 2,
   "id": "norwegian-graham",
   "metadata": {},
   "outputs": [],
   "source": [
    "import requests\n",
    "from tqdm import tqdm_notebook as tqdm\n",
    "import os\n",
    "\n",
    "import numpy as np\n",
    "import itk\n",
    "\n",
    "from itkwidgets import view\n",
    "import itkwidgets"
   ]
  },
  {
   "cell_type": "code",
   "execution_count": 3,
   "id": "dramatic-counter",
   "metadata": {},
   "outputs": [],
   "source": [
    "#image = itk.imread(\"test.nii\")\n",
    "def download_data(url, filename):\n",
    "    if not os.path.exists(filename):\n",
    "        chunk_size = 32 * 1024\n",
    "        r = requests.get(url, stream=True)\n",
    "        total_size = int(r.headers.get('content-length', 0))\n",
    "        pbar = tqdm(unit=\"B\", unit_scale=True, total=int(total_size))\n",
    "        with open(filename, 'wb') as f:\n",
    "            for chunk in r.iter_content(chunk_size=chunk_size): \n",
    "                if chunk: # filter out keep-alive new chunks\n",
    "                    pbar.update(len(chunk))\n",
    "                    f.write(chunk)\n",
    "                    \n",
    "# 1024x768x165 unsigned char, 124MB file\n",
    "large_url = 'https://documents.epfl.ch/groups/c/cv/cvlab-unit/www/data/%20ElectronMicroscopy_Hippocampus/training.tif'\n",
    "large_filename = 'large_hippocampus.tif'\n",
    "\n",
    "# 2048x1536x1065 unsigned char, 3.2GB file\n",
    "very_large_url = 'https://documents.epfl.ch/groups/c/cv/cvlab-unit/www/data/%20ElectronMicroscopy_Hippocampus/volumedata.tif'\n",
    "very_large_filename = 'very_large_hippocampus.tif'\n",
    "\n",
    "download_data(large_url, large_filename)\n",
    "\n",
    "\n",
    "#view(image, rotate=True, axes=True, vmin=4000, vmax=17000, gradient_opacity=0.9)\n",
    "#view(image, rotate=True, axes=True, gradient_opacity=0.9)\n",
    "#%time view(large_image, select_roi=True, gradient_opacity=0.4, shadow=False, cmap=itkwidgets.cm.gray, annotations=False)view(image, gradient_opacity=0.4, shadow=False, cmap=itkwidgets.cm.gray, annotations=False)"
   ]
  },
  {
   "cell_type": "code",
   "execution_count": 4,
   "id": "three-harassment",
   "metadata": {},
   "outputs": [
    {
     "name": "stdout",
     "output_type": "stream",
     "text": [
      "CPU times: user 1.39 s, sys: 390 ms, total: 1.78 s\n",
      "Wall time: 1.95 s\n"
     ]
    }
   ],
   "source": [
    "%time large_image = itk.imread(large_filename)"
   ]
  },
  {
   "cell_type": "code",
   "execution_count": 5,
   "id": "aquatic-sector",
   "metadata": {},
   "outputs": [
    {
     "name": "stdout",
     "output_type": "stream",
     "text": [
      "CPU times: user 2.91 s, sys: 431 ms, total: 3.34 s\n",
      "Wall time: 3.09 s\n"
     ]
    },
    {
     "data": {
      "application/vnd.jupyter.widget-view+json": {
       "model_id": "39079ca1e43d4e619856673fde8632fb",
       "version_major": 2,
       "version_minor": 0
      },
      "text/plain": [
       "Viewer(annotations=False, cmap=['gray_Matlab'], geometries=[], gradient_opacity=0.4, point_sets=[], rendered_i…"
      ]
     },
     "metadata": {},
     "output_type": "display_data"
    }
   ],
   "source": [
    "%time view(large_image, select_roi=True, gradient_opacity=0.4, shadow=False, cmap=itkwidgets.cm.gray, annotations=False)"
   ]
  }
 ],
 "metadata": {
  "kernelspec": {
   "display_name": "Python 3 (ipykernel)",
   "language": "python",
   "name": "python3"
  },
  "language_info": {
   "codemirror_mode": {
    "name": "ipython",
    "version": 3
   },
   "file_extension": ".py",
   "mimetype": "text/x-python",
   "name": "python",
   "nbconvert_exporter": "python",
   "pygments_lexer": "ipython3",
   "version": "3.9.6"
  }
 },
 "nbformat": 4,
 "nbformat_minor": 5
}
